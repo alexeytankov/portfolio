{
 "cells": [
  {
   "cell_type": "markdown",
   "metadata": {
    "colab_type": "text",
    "id": "pqn155iqAIV6"
   },
   "source": [
    "### Import libraries"
   ]
  },
  {
   "cell_type": "code",
   "execution_count": 1,
   "metadata": {},
   "outputs": [
    {
     "data": {
      "text/html": [
       "<style>.container {width:82.5% !important}</style>"
      ],
      "text/plain": [
       "<IPython.core.display.HTML object>"
      ]
     },
     "metadata": {},
     "output_type": "display_data"
    }
   ],
   "source": [
    "from IPython.core.display import display, HTML\n",
    "display(HTML('<style>.container {width:82.5% !important}</style>'))"
   ]
  },
  {
   "cell_type": "code",
   "execution_count": 2,
   "metadata": {},
   "outputs": [],
   "source": [
    "import os\n",
    "import pickle\n",
    "import numpy as np\n",
    "import pandas as pd\n",
    "from scipy.sparse import hstack\n",
    "\n",
    "from sklearn.feature_extraction.text import TfidfVectorizer, CountVectorizer, HashingVectorizer\n",
    "from sklearn.preprocessing import StandardScaler\n",
    "from sklearn.model_selection import train_test_split, cross_val_score, KFold\n",
    "from sklearn.linear_model import LogisticRegression\n",
    "from sklearn.ensemble import VotingClassifier\n",
    "from sklearn.metrics import roc_auc_score\n",
    "\n",
    "import eli5\n",
    "import matplotlib.pyplot as plt\n",
    "%matplotlib inline\n",
    "import seaborn as sns"
   ]
  },
  {
   "cell_type": "code",
   "execution_count": 3,
   "metadata": {},
   "outputs": [],
   "source": [
    "import warnings\n",
    "warnings.filterwarnings('ignore')"
   ]
  },
  {
   "cell_type": "code",
   "execution_count": 4,
   "metadata": {},
   "outputs": [],
   "source": [
    "plt.rcParams.update({'font.size': 14})\n",
    "pd.set_option('precision', 3)\n",
    "pd.set_option('max_columns', 100)\n",
    "pd.set_option('display.float_format', lambda x: '%.5f' % x)\n",
    "pd.set_option('display.max_columns', 500)\n",
    "pd.set_option('display.max_rows', 500)\n",
    "pd.set_option('max_colwidth', 300)"
   ]
  },
  {
   "cell_type": "markdown",
   "metadata": {},
   "source": [
    "### Paths to directories and files"
   ]
  },
  {
   "cell_type": "code",
   "execution_count": 5,
   "metadata": {},
   "outputs": [],
   "source": [
    "TRAIN_DATASET_PATH = 'data/train_sessions.csv'\n",
    "TEST_DATASET_PATH = 'data/test_sessions.csv'\n",
    "SITE_DIC_PATH = 'data/site_dic.pkl'\n",
    "RES_PATH = 'data/result_submission.csv'"
   ]
  },
  {
   "cell_type": "markdown",
   "metadata": {},
   "source": [
    "### Loading data"
   ]
  },
  {
   "cell_type": "code",
   "execution_count": 6,
   "metadata": {},
   "outputs": [],
   "source": [
    "times = ['time%s' % i for i in range(1, 11)]\n",
    "train_df = pd.read_csv(TRAIN_DATASET_PATH, parse_dates=times)  \n",
    "test_df = pd.read_csv(TEST_DATASET_PATH, parse_dates=times) "
   ]
  },
  {
   "cell_type": "code",
   "execution_count": 7,
   "metadata": {},
   "outputs": [
    {
     "name": "stdout",
     "output_type": "stream",
     "text": [
      "Wall time: 1min 1s\n"
     ]
    }
   ],
   "source": [
    "%%time\n",
    "\n",
    "train_df = train_df.sort_values(by='time1')\n",
    "\n",
    "with open(SITE_DIC_PATH, 'rb') as f:\n",
    "    site2id = pickle.load(f)\n",
    "id2site = {v:k for (k, v) in site2id.items()}\n",
    "id2site[0] = 'unknown'\n",
    "\n",
    "sites = ['site%s' % i for i in range(1, 11)]\n",
    "\n",
    "train_sessions = train_df[sites].fillna(0).astype('int').apply(lambda row: \n",
    "                                                 ' '.join([id2site[i] for i in row]), axis=1).tolist()\n",
    "\n",
    "test_sessions = test_df[sites].fillna(0).astype('int').apply(lambda row: \n",
    "                                                 ' '.join([id2site[i] for i in row]), axis=1).tolist()\n",
    "\n",
    "# Векторизация адресных ссылок\n",
    "vectorizer_params_1 = {'ngram_range': (1, 7), \n",
    "                       'max_features': 40000, \n",
    "                       'tokenizer': lambda s: s.split()}\n",
    "\n",
    "vectorizer_params_2 = {'ngram_range': (1, 8), \n",
    "                       'max_features': 175, \n",
    "                       'tokenizer': lambda s: s.split()}\n",
    "\n",
    "vectorizer_1 = TfidfVectorizer(**vectorizer_params_1)\n",
    "vectorizer_2 = CountVectorizer(**vectorizer_params_2)\n",
    "\n",
    "X1 = vectorizer_1.fit_transform(train_sessions)\n",
    "X2 = vectorizer_2.fit_transform(train_sessions)\n",
    "y = train_df['target'] \n",
    "\n",
    "test_1 = vectorizer_1.transform(test_sessions)\n",
    "test_2 = vectorizer_2.transform(test_sessions)\n",
    "\n",
    "train_times, test_times = train_df[times], test_df[times]"
   ]
  },
  {
   "cell_type": "code",
   "execution_count": 8,
   "metadata": {},
   "outputs": [],
   "source": [
    "X = hstack([X1, X2])\n",
    "test = hstack([test_1, test_2])"
   ]
  },
  {
   "cell_type": "markdown",
   "metadata": {},
   "source": [
    "### Functions"
   ]
  },
  {
   "cell_type": "code",
   "execution_count": 9,
   "metadata": {},
   "outputs": [],
   "source": [
    "# Функция для записи предсказаний в файл\n",
    "def write_to_submission_file(predicted_labels, out_file, target='target', index_label='session_id'):\n",
    "    predicted_df = pd.DataFrame(predicted_labels, index = np.arange(1, predicted_labels.shape[0] + 1), columns=[target])\n",
    "    predicted_df.to_csv(out_file, index_label=index_label)"
   ]
  },
  {
   "cell_type": "markdown",
   "metadata": {},
   "source": [
    "### Exploratory Data Analysis"
   ]
  },
  {
   "cell_type": "code",
   "execution_count": 10,
   "metadata": {},
   "outputs": [],
   "source": [
    "session_start_hour = train_times['time1'].apply(lambda ts: ts.hour).values"
   ]
  },
  {
   "cell_type": "code",
   "execution_count": 11,
   "metadata": {},
   "outputs": [
    {
     "data": {
      "text/plain": [
       "Text(0.5, 0, 'Session start hour')"
      ]
     },
     "execution_count": 11,
     "metadata": {},
     "output_type": "execute_result"
    },
    {
     "data": {
      "image/png": "[encoded data removed]",
      "text/plain": [
       "<Figure size 864x504 with 1 Axes>"
      ]
     },
     "metadata": {
      "needs_background": "light"
     },
     "output_type": "display_data"
    }
   ],
   "source": [
    "plt.subplots(figsize=(12, 7)) \n",
    "sns.countplot(session_start_hour, palette='mako')\n",
    "plt.xlabel('Session start hour')"
   ]
  },
  {
   "cell_type": "code",
   "execution_count": 12,
   "metadata": {
    "scrolled": true
   },
   "outputs": [
    {
     "data": {
      "text/plain": [
       "Text(0.5, 0, 'Session start hour')"
      ]
     },
     "execution_count": 12,
     "metadata": {},
     "output_type": "execute_result"
    },
    {
     "data": {
      "image/png": "[encoded data removed]",
      "text/plain": [
       "<Figure size 1224x324 with 2 Axes>"
      ]
     },
     "metadata": {
      "needs_background": "light"
     },
     "output_type": "display_data"
    }
   ],
   "source": [
    "plt.subplots(1, 2, figsize = (17, 4.5)) \n",
    "\n",
    "plt.subplot(1, 2, 1)\n",
    "sns.countplot(session_start_hour[y == 1], palette='mako')\n",
    "plt.title('Alice')\n",
    "plt.xlabel('Session start hour')\n",
    "          \n",
    "plt.subplot(1, 2, 2)\n",
    "sns.countplot(session_start_hour[y == 0], palette='mako')\n",
    "plt.title('Others')\n",
    "plt.xlabel('Session start hour')"
   ]
  },
  {
   "cell_type": "markdown",
   "metadata": {},
   "source": [
    "### Feature engineering"
   ]
  },
  {
   "cell_type": "code",
   "execution_count": 13,
   "metadata": {},
   "outputs": [],
   "source": [
    "# Час сессии\n",
    "def add_time_features(X_sparse, times):\n",
    "    hour = times['time1'].apply(lambda ts: ts.hour)\n",
    "#     one = ((hour >= 1) & (hour < 2)).astype('int').values.reshape(-1, 1)\n",
    "#     two = ((hour >= 2) & (hour < 3)).astype('int').values.reshape(-1, 1)\n",
    "#     three = ((hour >= 3) & (hour < 4)).astype('int').values.reshape(-1, 1)\n",
    "#     four = ((hour >= 4) & (hour < 5)).astype('int').values.reshape(-1, 1)\n",
    "#     five = ((hour >= 5) & (hour < 6)).astype('int').values.reshape(-1, 1)\n",
    "#     six = ((hour >= 6) & (hour < 7)).astype('int').values.reshape(-1, 1)\n",
    "    seven = ((hour >= 7) & (hour < 8)).astype('int').values.reshape(-1, 1)\n",
    "    eight = ((hour >= 8) & (hour < 9)).astype('int').values.reshape(-1, 1)\n",
    "    nine = ((hour >= 9) & (hour < 10)).astype('int').values.reshape(-1, 1)\n",
    "    ten = ((hour >= 10) & (hour < 11)).astype('int').values.reshape(-1, 1)\n",
    "    eleven = ((hour >= 11) & (hour < 12)).astype('int').values.reshape(-1, 1)\n",
    "    twelve = ((hour >= 12) & (hour < 13)).astype('int').values.reshape(-1, 1)\n",
    "    thirteen = ((hour >= 13) & (hour < 14)).astype('int').values.reshape(-1, 1)\n",
    "    fourteen = ((hour >= 14) & (hour < 15)).astype('int').values.reshape(-1, 1)\n",
    "    fifteen = ((hour >= 15) & (hour < 16)).astype('int').values.reshape(-1, 1)\n",
    "    sixteen = ((hour >= 16) & (hour < 17)).astype('int').values.reshape(-1, 1)\n",
    "    seventeen = ((hour >= 17) & (hour < 18)).astype('int').values.reshape(-1, 1)\n",
    "    eighteen = ((hour >= 18) & (hour < 19)).astype('int').values.reshape(-1, 1)\n",
    "    nineteen = ((hour >= 19) & (hour < 20)).astype('int').values.reshape(-1, 1)\n",
    "    twenty = ((hour >= 20) & (hour < 21)).astype('int').values.reshape(-1, 1)\n",
    "    twenty_one = ((hour >= 21) & (hour < 22)).astype('int').values.reshape(-1, 1)\n",
    "    twenty_two = ((hour >= 22) & (hour < 23)).astype('int').values.reshape(-1, 1)\n",
    "    twenty_three = ((hour >= 23) & (hour < 24)).astype('int').values.reshape(-1, 1)\n",
    "    twenty_four = ((hour >= 24) & (hour < 1)).astype('int').values.reshape(-1, 1)\n",
    "    \n",
    "    objects_to_hstack = [X_sparse, seven, eight, nine, ten, eleven, twelve, thirteen, fourteen, fifteen, sixteen, seventeen, \n",
    "                         eighteen, nineteen, twenty, twenty_one, twenty_two, twenty_three, twenty_four] \n",
    "    feature_names = ['seven', 'eight', 'nine', 'ten', 'eleven', 'twelve', 'thirteen', 'fourteen', 'fifteen', 'sixteen', 'seventeen', \n",
    "                     'eighteen', 'nineteen', 'twenty', 'twenty_one', 'twenty_two', 'twenty_three', 'twenty_four']  \n",
    "    \n",
    "    X = hstack(objects_to_hstack)\n",
    "    return X, feature_names"
   ]
  },
  {
   "cell_type": "code",
   "execution_count": 14,
   "metadata": {},
   "outputs": [],
   "source": [
    "X, time_features = add_time_features(X, train_times)\n",
    "test, _ = add_time_features(test, test_times)"
   ]
  },
  {
   "cell_type": "code",
   "execution_count": 15,
   "metadata": {},
   "outputs": [],
   "source": [
    "# Продолжительность сеанса\n",
    "train_durations = (train_times.max(axis=1) - train_times.min(axis=1)).astype('timedelta64[ms]').astype(int)\n",
    "test_durations = (test_times.max(axis=1) - test_times.min(axis=1)).astype('timedelta64[ms]').astype(int)\n",
    "\n",
    "# Масштабирование признаков\n",
    "scaler = StandardScaler()\n",
    "train_dur_scaled = scaler.fit_transform(train_durations.values.reshape(-1, 1))\n",
    "test_dur_scaled = scaler.transform(test_durations.values.reshape(-1, 1))\n",
    "\n",
    "X = hstack([X, train_dur_scaled])\n",
    "test = hstack([test, test_dur_scaled])"
   ]
  },
  {
   "cell_type": "code",
   "execution_count": 16,
   "metadata": {},
   "outputs": [],
   "source": [
    "# Начало сеанса\n",
    "train_start = train_times[[f'time{i}' for i in range(1, 11)]].min(axis=1)\n",
    "test_start = test_times[[f'time{i}' for i in range(1, 11)]].min(axis=1)\n",
    "\n",
    "train_start = scaler.fit_transform(train_start.values.reshape(-1, 1))\n",
    "test_start = scaler.transform(test_start.values.reshape(-1, 1))\n",
    "\n",
    "X = hstack([X, train_start])\n",
    "test = hstack([test, test_start])"
   ]
  },
  {
   "cell_type": "code",
   "execution_count": 17,
   "metadata": {},
   "outputs": [],
   "source": [
    "# Завершение сеанса\n",
    "train_end = train_times[[f'time{i}' for i in range(1, 11)]].max(axis=1)\n",
    "test_end = test_times[[f'time{i}' for i in range(1, 11)]].max(axis=1)\n",
    "\n",
    "train_end = scaler.fit_transform(train_end.values.reshape(-1, 1))\n",
    "test_end = scaler.transform(test_end.values.reshape(-1, 1))\n",
    "\n",
    "X = hstack([X, train_end])\n",
    "test = hstack([test, test_end])"
   ]
  },
  {
   "cell_type": "code",
   "execution_count": 18,
   "metadata": {},
   "outputs": [],
   "source": [
    "# День недели, месяц, год\n",
    "def add_date_features(X_sparse, times):\n",
    "    day_of_week = times['time1'].apply(lambda t: t.weekday()).values.reshape(-1, 1)\n",
    "#     month = times['time1'].apply(lambda t: t.month).values.reshape(-1, 1)\n",
    "#     year = times['time1'].apply(lambda t: t.year).values.reshape(-1, 1) \n",
    "    \n",
    "    objects_to_hstack = [X_sparse, day_of_week]\n",
    "    feature_names = ['day_of_week']\n",
    "        \n",
    "    X = hstack(objects_to_hstack)\n",
    "    return X, feature_names"
   ]
  },
  {
   "cell_type": "code",
   "execution_count": 19,
   "metadata": {},
   "outputs": [],
   "source": [
    "X, date_features = add_date_features(X, train_times)\n",
    "test, _ = add_date_features(test, test_times)"
   ]
  },
  {
   "cell_type": "markdown",
   "metadata": {},
   "source": [
    "### LogisticRegression 1"
   ]
  },
  {
   "cell_type": "code",
   "execution_count": 20,
   "metadata": {},
   "outputs": [],
   "source": [
    "X_train, X_test, y_train, y_test = train_test_split(X, y, test_size=0.25, random_state=17, shuffle=True)"
   ]
  },
  {
   "cell_type": "code",
   "execution_count": 21,
   "metadata": {},
   "outputs": [
    {
     "name": "stdout",
     "output_type": "stream",
     "text": [
      "Train score: 0.99372, Test score: 0.98599\n"
     ]
    }
   ],
   "source": [
    "model_lr = LogisticRegression(C=2, random_state=17, solver='lbfgs', multi_class='multinomial', max_iter=190)\n",
    "model_lr.fit(X_train, y_train)\n",
    "\n",
    "train_predictions_lr = model_lr.predict_proba(X_train)[:, 1]\n",
    "test_predictions_lr = model_lr.predict_proba(X_test)[:, 1]\n",
    "\n",
    "train_score = roc_auc_score(y_train, train_predictions_lr)\n",
    "test_score = roc_auc_score(y_test, test_predictions_lr)\n",
    "                            \n",
    "print(f'Train score: {round(np.mean(train_score), 5)}, Test score: {round(np.mean(test_score), 5)}')"
   ]
  },
  {
   "cell_type": "markdown",
   "metadata": {},
   "source": [
    "## LogisticRegression 2"
   ]
  },
  {
   "cell_type": "code",
   "execution_count": 22,
   "metadata": {},
   "outputs": [
    {
     "name": "stdout",
     "output_type": "stream",
     "text": [
      "Train score: 0.99474, Test score: 0.98647\n"
     ]
    }
   ],
   "source": [
    "model_lr2 = LogisticRegression(C=3, random_state=17, solver='lbfgs', multi_class='multinomial', max_iter=190)\n",
    "model_lr2.fit(X_train, y_train)\n",
    "\n",
    "train_predictions_lr2 = model_lr2.predict_proba(X_train)[:, 1]\n",
    "test_predictions_lr2 = model_lr2.predict_proba(X_test)[:, 1]\n",
    "\n",
    "train_score2 = roc_auc_score(y_train, train_predictions_lr2)\n",
    "test_score2 = roc_auc_score(y_test, test_predictions_lr2)\n",
    "                            \n",
    "print(f'Train score: {round(np.mean(train_score2), 5)}, Test score: {round(np.mean(test_score2), 5)}')"
   ]
  },
  {
   "cell_type": "markdown",
   "metadata": {},
   "source": [
    "### LogisticRegression 3"
   ]
  },
  {
   "cell_type": "code",
   "execution_count": 23,
   "metadata": {},
   "outputs": [
    {
     "name": "stdout",
     "output_type": "stream",
     "text": [
      "Train score: 0.99551, Test score: 0.98665\n"
     ]
    }
   ],
   "source": [
    "model_lr3 = LogisticRegression(C=4, random_state=17, solver='lbfgs', multi_class='multinomial', max_iter=190)\n",
    "model_lr3.fit(X_train, y_train)\n",
    "\n",
    "train_predictions_lr3 = model_lr3.predict_proba(X_train)[:, 1]\n",
    "test_predictions_lr3 = model_lr3.predict_proba(X_test)[:, 1]\n",
    "\n",
    "train_score3 = roc_auc_score(y_train, train_predictions_lr3)\n",
    "test_score3 = roc_auc_score(y_test, test_predictions_lr3)\n",
    "                            \n",
    "print(f'Train score: {round(np.mean(train_score3), 5)}, Test score: {round(np.mean(test_score3), 5)}')"
   ]
  },
  {
   "cell_type": "markdown",
   "metadata": {},
   "source": [
    "### LogisticRegression 4"
   ]
  },
  {
   "cell_type": "code",
   "execution_count": 24,
   "metadata": {},
   "outputs": [
    {
     "name": "stdout",
     "output_type": "stream",
     "text": [
      "Train score: 0.99738, Test score: 0.98589\n"
     ]
    }
   ],
   "source": [
    "model_lr4 = LogisticRegression(C=25, random_state=17, solver='lbfgs', multi_class='multinomial', max_iter=205)\n",
    "model_lr4.fit(X_train, y_train)\n",
    "\n",
    "train_predictions_lr4 = model_lr4.predict_proba(X_train)[:, 1]\n",
    "test_predictions_lr4 = model_lr4.predict_proba(X_test)[:, 1]\n",
    "\n",
    "train_score4 = roc_auc_score(y_train, train_predictions_lr4)\n",
    "test_score4 = roc_auc_score(y_test, test_predictions_lr4)\n",
    "                            \n",
    "print(f'Train score: {round(np.mean(train_score4), 5)}, Test score: {round(np.mean(test_score4), 5)}')"
   ]
  },
  {
   "cell_type": "code",
   "execution_count": 25,
   "metadata": {},
   "outputs": [],
   "source": [
    "scores = pd.DataFrame({\n",
    "    'LogisticRegression': test_predictions_lr,\n",
    "    'LogisticRegression2': test_predictions_lr2,\n",
    "    'LogisticRegression3': test_predictions_lr3,\n",
    "    'LogisticRegression4': test_predictions_lr4,\n",
    "})"
   ]
  },
  {
   "cell_type": "code",
   "execution_count": 26,
   "metadata": {},
   "outputs": [
    {
     "data": {
      "text/html": [
       "<div>\n",
       "<style scoped>\n",
       "    .dataframe tbody tr th:only-of-type {\n",
       "        vertical-align: middle;\n",
       "    }\n",
       "\n",
       "    .dataframe tbody tr th {\n",
       "        vertical-align: top;\n",
       "    }\n",
       "\n",
       "    .dataframe thead th {\n",
       "        text-align: right;\n",
       "    }\n",
       "</style>\n",
       "<table border=\"1\" class=\"dataframe\">\n",
       "  <thead>\n",
       "    <tr style=\"text-align: right;\">\n",
       "      <th></th>\n",
       "      <th>LogisticRegression</th>\n",
       "      <th>LogisticRegression2</th>\n",
       "      <th>LogisticRegression3</th>\n",
       "      <th>LogisticRegression4</th>\n",
       "    </tr>\n",
       "  </thead>\n",
       "  <tbody>\n",
       "    <tr>\n",
       "      <th>0</th>\n",
       "      <td>0.00001</td>\n",
       "      <td>0.00000</td>\n",
       "      <td>0.00000</td>\n",
       "      <td>0.00000</td>\n",
       "    </tr>\n",
       "    <tr>\n",
       "      <th>1</th>\n",
       "      <td>0.00014</td>\n",
       "      <td>0.00007</td>\n",
       "      <td>0.00007</td>\n",
       "      <td>0.00001</td>\n",
       "    </tr>\n",
       "    <tr>\n",
       "      <th>2</th>\n",
       "      <td>0.00011</td>\n",
       "      <td>0.00006</td>\n",
       "      <td>0.00016</td>\n",
       "      <td>0.00003</td>\n",
       "    </tr>\n",
       "    <tr>\n",
       "      <th>3</th>\n",
       "      <td>0.00128</td>\n",
       "      <td>0.00089</td>\n",
       "      <td>0.00087</td>\n",
       "      <td>0.00017</td>\n",
       "    </tr>\n",
       "    <tr>\n",
       "      <th>4</th>\n",
       "      <td>0.00003</td>\n",
       "      <td>0.00001</td>\n",
       "      <td>0.00000</td>\n",
       "      <td>0.00000</td>\n",
       "    </tr>\n",
       "  </tbody>\n",
       "</table>\n",
       "</div>"
      ],
      "text/plain": [
       "   LogisticRegression  LogisticRegression2  LogisticRegression3  \\\n",
       "0             0.00001              0.00000              0.00000   \n",
       "1             0.00014              0.00007              0.00007   \n",
       "2             0.00011              0.00006              0.00016   \n",
       "3             0.00128              0.00089              0.00087   \n",
       "4             0.00003              0.00001              0.00000   \n",
       "\n",
       "   LogisticRegression4  \n",
       "0              0.00000  \n",
       "1              0.00001  \n",
       "2              0.00003  \n",
       "3              0.00017  \n",
       "4              0.00000  "
      ]
     },
     "execution_count": 26,
     "metadata": {},
     "output_type": "execute_result"
    },
    {
     "data": {
      "image/png": "[encoded data removed]",
      "text/plain": [
       "<Figure size 576x576 with 2 Axes>"
      ]
     },
     "metadata": {
      "needs_background": "light"
     },
     "output_type": "display_data"
    }
   ],
   "source": [
    "corr = scores.corr()\n",
    "\n",
    "fig, axes = plt.subplots(1, 1, figsize=(8, 8))\n",
    "sns.heatmap(corr, annot=True, fmt='.4g', square=True, cmap='coolwarm', ax=axes)\n",
    "\n",
    "scores.head()"
   ]
  },
  {
   "cell_type": "markdown",
   "metadata": {},
   "source": [
    "### VotingClassifier"
   ]
  },
  {
   "cell_type": "code",
   "execution_count": 27,
   "metadata": {},
   "outputs": [],
   "source": [
    "model_lr = LogisticRegression(C=2, random_state=27, solver='lbfgs', multi_class='multinomial', max_iter=190)\n",
    "model_lr2 = LogisticRegression(C=3, random_state=27, solver='lbfgs', multi_class='multinomial', max_iter=190)\n",
    "model_lr3 = LogisticRegression(C=4, random_state=27, solver='lbfgs', multi_class='multinomial', max_iter=190)\n",
    "model_lr4 = LogisticRegression(C=25, random_state=27, solver='lbfgs', multi_class='multinomial', max_iter=205)"
   ]
  },
  {
   "cell_type": "code",
   "execution_count": 28,
   "metadata": {},
   "outputs": [],
   "source": [
    "model_vc = VotingClassifier(estimators=[\n",
    "    ('LogisticRegression', model_lr), \n",
    "    ('LogisticRegression2', model_lr2), \n",
    "    ('LogisticRegression3', model_lr3), \n",
    "    ('LogisticRegression4', model_lr4)\n",
    "], voting='soft')"
   ]
  },
  {
   "cell_type": "code",
   "execution_count": 29,
   "metadata": {},
   "outputs": [
    {
     "name": "stdout",
     "output_type": "stream",
     "text": [
      "Train score: 0.99588, Test score: 0.98642\n"
     ]
    }
   ],
   "source": [
    "model_vc.fit(X_train, y_train)\n",
    "\n",
    "train_predictions_vc = model_vc.predict_proba(X_train)[:, 1]\n",
    "test_predictions_vc = model_vc.predict_proba(X_test)[:, 1]\n",
    "\n",
    "train_score_vc = roc_auc_score(y_train, train_predictions_vc)\n",
    "test_score_vc = roc_auc_score(y_test, test_predictions_vc)\n",
    "\n",
    "print(f'Train score: {round(np.mean(train_score_vc), 5)}, Test score: {round(np.mean(test_score_vc), 5)}')"
   ]
  },
  {
   "cell_type": "code",
   "execution_count": 30,
   "metadata": {},
   "outputs": [
    {
     "name": "stdout",
     "output_type": "stream",
     "text": [
      "CV scores [0.98707581 0.9851065  0.981174   0.98301238 0.98506595 0.97516289\n",
      " 0.98476034 0.97812932 0.98561221 0.98770939]\n",
      "CV mean: 0.9832808781774327, CV std: 0.0038093032190054154\n",
      "Wall time: 4min 3s\n"
     ]
    }
   ],
   "source": [
    "%%time\n",
    "cv_train = cross_val_score(model_vc, X_train, y_train, cv=10, scoring='roc_auc', n_jobs=4)\n",
    "print('CV scores', cv_train)\n",
    "print('CV mean: {}, CV std: {}'.format(cv_train.mean(), cv_train.std()))"
   ]
  },
  {
   "cell_type": "code",
   "execution_count": 31,
   "metadata": {},
   "outputs": [
    {
     "name": "stdout",
     "output_type": "stream",
     "text": [
      "CV scores [0.98373988 0.96961756 0.98022726 0.98094632 0.97302813 0.97309634\n",
      " 0.99079716 0.96273959 0.9896461  0.97172927]\n",
      "CV mean: 0.9775567604665986, CV std: 0.008574700450858466\n",
      "Wall time: 1min 45s\n"
     ]
    }
   ],
   "source": [
    "%%time\n",
    "cv_test = cross_val_score(model_vc, X_test, y_test, cv=10, scoring='roc_auc', n_jobs=4)\n",
    "print('CV scores', cv_test)\n",
    "print('CV mean: {}, CV std: {}'.format(cv_test.mean(), cv_test.std()))"
   ]
  },
  {
   "cell_type": "code",
   "execution_count": 32,
   "metadata": {},
   "outputs": [],
   "source": [
    "# CV mean: 0.9775567604665986, CV std: 0.008574700450858466 - 0.95838"
   ]
  },
  {
   "cell_type": "markdown",
   "metadata": {},
   "source": [
    "### Result"
   ]
  },
  {
   "cell_type": "code",
   "execution_count": 33,
   "metadata": {},
   "outputs": [],
   "source": [
    "test_pred = model_vc.predict_proba(test)[:, 1]"
   ]
  },
  {
   "cell_type": "code",
   "execution_count": 34,
   "metadata": {},
   "outputs": [],
   "source": [
    "write_to_submission_file(test_pred, RES_PATH) "
   ]
  },
  {
   "cell_type": "code",
   "execution_count": null,
   "metadata": {},
   "outputs": [],
   "source": []
  }
 ],
 "metadata": {
  "accelerator": "GPU",
  "colab": {
   "collapsed_sections": [],
   "machine_shape": "hm",
   "name": "Real_Estate_Price_Prediction.ipynb",
   "provenance": []
  },
  "kernelspec": {
   "display_name": "Python 3",
   "language": "python",
   "name": "python3"
  },
  "language_info": {
   "codemirror_mode": {
    "name": "ipython",
    "version": 3
   },
   "file_extension": ".py",
   "mimetype": "text/x-python",
   "name": "python",
   "nbconvert_exporter": "python",
   "pygments_lexer": "ipython3",
   "version": "3.8.10"
  }
 },
 "nbformat": 4,
 "nbformat_minor": 1
}
